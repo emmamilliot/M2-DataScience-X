{
 "cells": [
  {
   "cell_type": "markdown",
   "metadata": {},
   "source": [
    "This aim of this notebook is to figure out how to get data from spotify. \n",
    "\n",
    "Resources : https://medium.com/@rafaelnduarte/how-to-retrieve-data-from-spotify-110c859ab304\n"
   ]
  },
  {
   "cell_type": "markdown",
   "metadata": {},
   "source": [
    "A faire aussi : créer un compte spotify https://developer.spotify.com/ et créer une app, puis rajouter dans les authoristions le redirect_uri utilisé"
   ]
  },
  {
   "cell_type": "code",
   "execution_count": 1,
   "metadata": {
    "ExecuteTime": {
     "end_time": "2022-02-20T14:12:08.099999Z",
     "start_time": "2022-02-20T14:12:07.896954Z"
    }
   },
   "outputs": [],
   "source": [
    "import spotipy \n",
    "sp = spotipy.Spotify() \n",
    "from spotipy.oauth2 import SpotifyClientCredentials \n",
    "import spotipy.util as util"
   ]
  },
  {
   "cell_type": "code",
   "execution_count": 2,
   "metadata": {
    "ExecuteTime": {
     "end_time": "2022-02-20T14:12:08.764110Z",
     "start_time": "2022-02-20T14:12:08.744199Z"
    }
   },
   "outputs": [],
   "source": [
    "# setting up authorization\n",
    "cid = \"d219b776c1574adb99e52a6a3592fb6e\" \n",
    "secret = \"d81ae5a6d57645d2a3274cce038b688b\"\n",
    "# saving the info you're going to need\n",
    "username = 'emmamilliot'\n",
    "scope = 'user-library-read' #check the documentation\n",
    "authorization_url = 'https://accounts.spotify.com/authorize'\n",
    "token_url = 'https://accounts.spotify.com/api/token'\n",
    "redirect_uri ='http://localhost:8808/callback/'\n",
    "\n",
    "token = util.prompt_for_user_token(username,scope,client_id=cid,client_secret=secret,redirect_uri=redirect_uri)\n",
    "client_credentials_manager = SpotifyClientCredentials(client_id=cid, client_secret=secret)\n",
    "sp = spotipy.Spotify(client_credentials_manager=client_credentials_manager)"
   ]
  },
  {
   "cell_type": "code",
   "execution_count": 3,
   "metadata": {
    "ExecuteTime": {
     "end_time": "2022-02-20T14:12:15.247278Z",
     "start_time": "2022-02-20T14:12:15.230616Z"
    }
   },
   "outputs": [
    {
     "name": "stdout",
     "output_type": "stream",
     "text": [
      "{'access_token': 'BQCbSf1e5PRlbgIAb3uW0u6jbO9RRXBlDFBrewknPtG5amYvoJizkQlTT8p9o1iDsszbv55jNKkalDO1huo', 'token_type': 'Bearer', 'expires_in': 3600, 'expires_at': 1647015110}\n",
      "<spotipy.client.Spotify object at 0x7feba997dee0>\n"
     ]
    },
    {
     "name": "stderr",
     "output_type": "stream",
     "text": [
      "<ipython-input-3-4d0cc25606e1>:6: DeprecationWarning: You're using 'as_dict = True'.get_access_token will return the token string directly in future versions. Please adjust your code accordingly, or use get_cached_token instead.\n",
      "  token = auth.get_access_token()\n"
     ]
    }
   ],
   "source": [
    "# retrieving you access token\n",
    "auth = SpotifyClientCredentials(\n",
    "client_id=cid,\n",
    "client_secret=secret)\n",
    "# save your token\n",
    "token = auth.get_access_token()\n",
    "spotify = spotipy.Spotify(auth=token)\n",
    "# check if everything is in order\n",
    "print(token)\n",
    "print(spotify)"
   ]
  },
  {
   "cell_type": "code",
   "execution_count": 4,
   "metadata": {},
   "outputs": [],
   "source": [
    "from spotipy.client import SpotifyException"
   ]
  },
  {
   "cell_type": "code",
   "execution_count": 5,
   "metadata": {},
   "outputs": [],
   "source": [
    "with open('genres.txt') as f:\n",
    "    genres = f.readlines()\n",
    "genres = [genres[k].replace('\\n', '') for k in range(len(genres))]"
   ]
  },
  {
   "cell_type": "code",
   "execution_count": 6,
   "metadata": {
    "ExecuteTime": {
     "end_time": "2022-02-20T14:13:50.520343Z",
     "start_time": "2022-02-20T14:13:45.346555Z"
    }
   },
   "outputs": [
    {
     "name": "stdout",
     "output_type": "stream",
     "text": [
      "2017\n",
      "0\n",
      "50\n",
      "100\n",
      "150\n",
      "200\n",
      "250\n",
      "300\n",
      "350\n",
      "400\n",
      "450\n",
      "500\n",
      "550\n",
      "600\n",
      "650\n",
      "700\n",
      "750\n",
      "800\n",
      "850\n",
      "900\n",
      "950\n",
      "2022\n",
      "0\n",
      "50\n",
      "100\n",
      "150\n",
      "200\n",
      "250\n",
      "300\n",
      "350\n",
      "400\n",
      "450\n",
      "500\n",
      "550\n",
      "600\n",
      "650\n",
      "700\n",
      "750\n",
      "800\n",
      "850\n",
      "900\n",
      "950\n"
     ]
    }
   ],
   "source": [
    "# create empty lists where the results are going to be stored\n",
    "artist_name = []\n",
    "artist_id = []\n",
    "artists_id = []\n",
    "artists_names = []\n",
    "track_name = []\n",
    "popularity = []\n",
    "track_id = []\n",
    "years = []\n",
    "genres_list = []\n",
    "\n",
    "for year in [2017, 2022] : \n",
    "    print(year)\n",
    "    qu = '+year:{}'.format(year)\n",
    "    for i in range(0,1000,50):\n",
    "        print(i)\n",
    "        count_exceptions = 0\n",
    "        for genre in genres[0:100]:\n",
    "            # print(genre)\n",
    "            try : \n",
    "                query = 'genre:\"{}\"'.format(genre) + qu\n",
    "                track_results = sp.search(q=query, type='track', limit=50, offset=i)\n",
    "                # if len(track_results['tracks']['items']) == 0:\n",
    "                #     empty_list += 1\n",
    "                for i, t in enumerate(track_results['tracks']['items']):\n",
    "                    artist_name.append(t['artists'][0]['name'])\n",
    "                    artist_id.append(t['artists'][0]['id'])\n",
    "                    artists_id.append([t['artists'][k]['id'] for k in range(len(t['artists']))])\n",
    "                    artists_names.append([t['artists'][k]['name'] for k in range(len(t['artists']))])\n",
    "                    track_name.append(t['name'])\n",
    "                    track_id.append(t['id'])\n",
    "                    popularity.append(t['popularity'])\n",
    "                    years.append(year)\n",
    "                    genres_list.append(genre)\n",
    "            except SpotifyException:\n",
    "                count_exceptions += 1\n",
    "                if count_exceptions < 10 : \n",
    "                    pass\n",
    "                else:\n",
    "                    raise\n",
    "            except : \n",
    "                raise\n",
    "            # if empty_list > 10 : \n",
    "            #     break"
   ]
  },
  {
   "cell_type": "code",
   "execution_count": 7,
   "metadata": {
    "ExecuteTime": {
     "end_time": "2022-02-20T14:18:05.277331Z",
     "start_time": "2022-02-20T14:18:01.777660Z"
    }
   },
   "outputs": [
    {
     "name": "stdout",
     "output_type": "stream",
     "text": [
      "(200000, 9)\n"
     ]
    },
    {
     "data": {
      "text/html": [
       "<div>\n",
       "<style scoped>\n",
       "    .dataframe tbody tr th:only-of-type {\n",
       "        vertical-align: middle;\n",
       "    }\n",
       "\n",
       "    .dataframe tbody tr th {\n",
       "        vertical-align: top;\n",
       "    }\n",
       "\n",
       "    .dataframe thead th {\n",
       "        text-align: right;\n",
       "    }\n",
       "</style>\n",
       "<table border=\"1\" class=\"dataframe\">\n",
       "  <thead>\n",
       "    <tr style=\"text-align: right;\">\n",
       "      <th></th>\n",
       "      <th>artist_name</th>\n",
       "      <th>track_name</th>\n",
       "      <th>track_id</th>\n",
       "      <th>popularity</th>\n",
       "      <th>artist_id</th>\n",
       "      <th>artists_id</th>\n",
       "      <th>artists_names</th>\n",
       "      <th>year</th>\n",
       "      <th>genre</th>\n",
       "    </tr>\n",
       "  </thead>\n",
       "  <tbody>\n",
       "    <tr>\n",
       "      <th>0</th>\n",
       "      <td>Jaymes Young</td>\n",
       "      <td>Infinity</td>\n",
       "      <td>1SOClUWhOi8vHZYMz3GluK</td>\n",
       "      <td>96</td>\n",
       "      <td>6QrQ7OrISRYIfS5mtacaw2</td>\n",
       "      <td>[6QrQ7OrISRYIfS5mtacaw2]</td>\n",
       "      <td>[Jaymes Young]</td>\n",
       "      <td>2017</td>\n",
       "      <td>pop</td>\n",
       "    </tr>\n",
       "    <tr>\n",
       "      <th>1</th>\n",
       "      <td>Ruth B.</td>\n",
       "      <td>Dandelions</td>\n",
       "      <td>2eAvDnpXP5W0cVtiI0PUxV</td>\n",
       "      <td>93</td>\n",
       "      <td>2WzaAvm2bBCf4pEhyuDgCY</td>\n",
       "      <td>[2WzaAvm2bBCf4pEhyuDgCY]</td>\n",
       "      <td>[Ruth B.]</td>\n",
       "      <td>2017</td>\n",
       "      <td>pop</td>\n",
       "    </tr>\n",
       "    <tr>\n",
       "      <th>2</th>\n",
       "      <td>Chase Atlantic</td>\n",
       "      <td>Swim</td>\n",
       "      <td>3M0lSi5WW79CXQamgSBIjx</td>\n",
       "      <td>89</td>\n",
       "      <td>7cYEt1pqMgXJdq00hAwVpT</td>\n",
       "      <td>[7cYEt1pqMgXJdq00hAwVpT]</td>\n",
       "      <td>[Chase Atlantic]</td>\n",
       "      <td>2017</td>\n",
       "      <td>pop</td>\n",
       "    </tr>\n",
       "    <tr>\n",
       "      <th>3</th>\n",
       "      <td>Måneskin</td>\n",
       "      <td>Beggin'</td>\n",
       "      <td>3Wrjm47oTz2sjIgck11l5e</td>\n",
       "      <td>92</td>\n",
       "      <td>0lAWpj5szCSwM4rUMHYmrr</td>\n",
       "      <td>[0lAWpj5szCSwM4rUMHYmrr]</td>\n",
       "      <td>[Måneskin]</td>\n",
       "      <td>2017</td>\n",
       "      <td>pop</td>\n",
       "    </tr>\n",
       "    <tr>\n",
       "      <th>4</th>\n",
       "      <td>Offset</td>\n",
       "      <td>Ric Flair Drip (with Metro Boomin)</td>\n",
       "      <td>7sO5G9EABYOXQKNPNiE9NR</td>\n",
       "      <td>85</td>\n",
       "      <td>4DdkRBBYG6Yk9Ka8tdJ9BW</td>\n",
       "      <td>[4DdkRBBYG6Yk9Ka8tdJ9BW, 0iEtIxbK0KxaSlF7G42ZOp]</td>\n",
       "      <td>[Offset, Metro Boomin]</td>\n",
       "      <td>2017</td>\n",
       "      <td>pop</td>\n",
       "    </tr>\n",
       "  </tbody>\n",
       "</table>\n",
       "</div>"
      ],
      "text/plain": [
       "      artist_name                          track_name                track_id  \\\n",
       "0    Jaymes Young                            Infinity  1SOClUWhOi8vHZYMz3GluK   \n",
       "1         Ruth B.                          Dandelions  2eAvDnpXP5W0cVtiI0PUxV   \n",
       "2  Chase Atlantic                                Swim  3M0lSi5WW79CXQamgSBIjx   \n",
       "3        Måneskin                             Beggin'  3Wrjm47oTz2sjIgck11l5e   \n",
       "4          Offset  Ric Flair Drip (with Metro Boomin)  7sO5G9EABYOXQKNPNiE9NR   \n",
       "\n",
       "   popularity               artist_id  \\\n",
       "0          96  6QrQ7OrISRYIfS5mtacaw2   \n",
       "1          93  2WzaAvm2bBCf4pEhyuDgCY   \n",
       "2          89  7cYEt1pqMgXJdq00hAwVpT   \n",
       "3          92  0lAWpj5szCSwM4rUMHYmrr   \n",
       "4          85  4DdkRBBYG6Yk9Ka8tdJ9BW   \n",
       "\n",
       "                                         artists_id           artists_names  \\\n",
       "0                          [6QrQ7OrISRYIfS5mtacaw2]          [Jaymes Young]   \n",
       "1                          [2WzaAvm2bBCf4pEhyuDgCY]               [Ruth B.]   \n",
       "2                          [7cYEt1pqMgXJdq00hAwVpT]        [Chase Atlantic]   \n",
       "3                          [0lAWpj5szCSwM4rUMHYmrr]              [Måneskin]   \n",
       "4  [4DdkRBBYG6Yk9Ka8tdJ9BW, 0iEtIxbK0KxaSlF7G42ZOp]  [Offset, Metro Boomin]   \n",
       "\n",
       "   year genre  \n",
       "0  2017   pop  \n",
       "1  2017   pop  \n",
       "2  2017   pop  \n",
       "3  2017   pop  \n",
       "4  2017   pop  "
      ]
     },
     "execution_count": 7,
     "metadata": {},
     "output_type": "execute_result"
    }
   ],
   "source": [
    "import pandas as pd\n",
    "\n",
    "df_tracks = pd.DataFrame({'artist_name':artist_name,\n",
    "                        'track_name':track_name,\n",
    "                        'track_id':track_id,\n",
    "                        'popularity':popularity, \n",
    "                        'artist_id' : artist_id, \n",
    "                        'artists_id' : artists_id,\n",
    "                        'artists_names' : artists_names, \n",
    "                        'year' : years,\n",
    "                        'genre' : genres_list})\n",
    "print(df_tracks.shape)\n",
    "# check if everything is ok\n",
    "df_tracks.head()"
   ]
  },
  {
   "cell_type": "code",
   "execution_count": 8,
   "metadata": {
    "ExecuteTime": {
     "end_time": "2022-02-20T14:19:06.941434Z",
     "start_time": "2022-02-20T14:19:06.917461Z"
    }
   },
   "outputs": [
    {
     "data": {
      "text/plain": [
       "6535"
      ]
     },
     "execution_count": 8,
     "metadata": {},
     "output_type": "execute_result"
    }
   ],
   "source": [
    "# group the entries by artist_name and track_name and check for duplicates\n",
    "\n",
    "grouped = df_tracks.groupby(['artist_name','track_name'], as_index=True).size()\n",
    "grouped[grouped > 1].count()"
   ]
  },
  {
   "cell_type": "code",
   "execution_count": 9,
   "metadata": {
    "ExecuteTime": {
     "end_time": "2022-02-20T14:19:24.012226Z",
     "start_time": "2022-02-20T14:19:23.987249Z"
    }
   },
   "outputs": [],
   "source": [
    "# dropping duplicates\n",
    "\n",
    "df_tracks.drop_duplicates(subset=['artist_name','track_name'], inplace=True)"
   ]
  },
  {
   "cell_type": "code",
   "execution_count": 10,
   "metadata": {},
   "outputs": [],
   "source": [
    "df_tracks.to_csv('tracks_2017_2020.csv')"
   ]
  },
  {
   "cell_type": "code",
   "execution_count": 11,
   "metadata": {
    "ExecuteTime": {
     "end_time": "2022-02-20T14:19:39.831508Z",
     "start_time": "2022-02-20T14:19:38.561381Z"
    }
   },
   "outputs": [
    {
     "name": "stdout",
     "output_type": "stream",
     "text": [
      "0\n",
      "100\n",
      "200\n",
      "300\n",
      "400\n",
      "500\n",
      "600\n",
      "700\n",
      "800\n",
      "900\n",
      "1000\n",
      "1100\n",
      "1200\n",
      "1300\n",
      "1400\n",
      "1500\n",
      "1600\n",
      "1700\n",
      "1800\n",
      "1900\n",
      "2000\n",
      "2100\n",
      "2200\n",
      "2300\n",
      "2400\n",
      "2500\n",
      "2600\n",
      "2700\n",
      "2800\n",
      "2900\n",
      "3000\n",
      "3100\n",
      "3200\n",
      "3300\n",
      "3400\n",
      "3500\n",
      "3600\n",
      "3700\n",
      "3800\n",
      "3900\n",
      "4000\n",
      "4100\n",
      "4200\n",
      "4300\n",
      "4400\n",
      "4500\n",
      "4600\n",
      "4700\n",
      "4800\n",
      "4900\n",
      "5000\n",
      "5100\n",
      "5200\n",
      "5300\n",
      "5400\n",
      "5500\n",
      "5600\n",
      "5700\n",
      "5800\n",
      "5900\n",
      "6000\n",
      "6100\n",
      "6200\n",
      "6300\n",
      "6400\n",
      "6500\n",
      "6600\n",
      "6700\n",
      "6800\n",
      "6900\n",
      "7000\n",
      "7100\n",
      "7200\n",
      "Number of tracks where no audio features were available: 0\n"
     ]
    }
   ],
   "source": [
    "# empty list, batchsize and the counter for None results\n",
    "rows = []\n",
    "batchsize = 100\n",
    "None_counter = 0\n",
    "\n",
    "for i in range(0,len(df_tracks['track_id']),batchsize):\n",
    "    print(i)\n",
    "    batch = df_tracks['track_id'][i:i+batchsize]\n",
    "    feature_results = sp.audio_features(batch)\n",
    "    for i, t in enumerate(feature_results):\n",
    "        if t == None:\n",
    "            None_counter = None_counter + 1\n",
    "        else:\n",
    "            rows.append(t)\n",
    "            \n",
    "print('Number of tracks where no audio features were available:',None_counter)"
   ]
  },
  {
   "cell_type": "code",
   "execution_count": 12,
   "metadata": {
    "ExecuteTime": {
     "end_time": "2022-02-20T14:20:25.009100Z",
     "start_time": "2022-02-20T14:20:24.964190Z"
    }
   },
   "outputs": [
    {
     "name": "stdout",
     "output_type": "stream",
     "text": [
      "Shape of the dataset: (7272, 18)\n"
     ]
    },
    {
     "data": {
      "text/html": [
       "<div>\n",
       "<style scoped>\n",
       "    .dataframe tbody tr th:only-of-type {\n",
       "        vertical-align: middle;\n",
       "    }\n",
       "\n",
       "    .dataframe tbody tr th {\n",
       "        vertical-align: top;\n",
       "    }\n",
       "\n",
       "    .dataframe thead th {\n",
       "        text-align: right;\n",
       "    }\n",
       "</style>\n",
       "<table border=\"1\" class=\"dataframe\">\n",
       "  <thead>\n",
       "    <tr style=\"text-align: right;\">\n",
       "      <th></th>\n",
       "      <th>danceability</th>\n",
       "      <th>energy</th>\n",
       "      <th>key</th>\n",
       "      <th>loudness</th>\n",
       "      <th>mode</th>\n",
       "      <th>speechiness</th>\n",
       "      <th>acousticness</th>\n",
       "      <th>instrumentalness</th>\n",
       "      <th>liveness</th>\n",
       "      <th>valence</th>\n",
       "      <th>tempo</th>\n",
       "      <th>type</th>\n",
       "      <th>id</th>\n",
       "      <th>uri</th>\n",
       "      <th>track_href</th>\n",
       "      <th>analysis_url</th>\n",
       "      <th>duration_ms</th>\n",
       "      <th>time_signature</th>\n",
       "    </tr>\n",
       "  </thead>\n",
       "  <tbody>\n",
       "    <tr>\n",
       "      <th>0</th>\n",
       "      <td>0.671</td>\n",
       "      <td>0.673</td>\n",
       "      <td>11</td>\n",
       "      <td>-6.941</td>\n",
       "      <td>0</td>\n",
       "      <td>0.0444</td>\n",
       "      <td>0.1480</td>\n",
       "      <td>0.000053</td>\n",
       "      <td>0.3040</td>\n",
       "      <td>0.4940</td>\n",
       "      <td>121.963</td>\n",
       "      <td>audio_features</td>\n",
       "      <td>1SOClUWhOi8vHZYMz3GluK</td>\n",
       "      <td>spotify:track:1SOClUWhOi8vHZYMz3GluK</td>\n",
       "      <td>https://api.spotify.com/v1/tracks/1SOClUWhOi8v...</td>\n",
       "      <td>https://api.spotify.com/v1/audio-analysis/1SOC...</td>\n",
       "      <td>237720</td>\n",
       "      <td>4</td>\n",
       "    </tr>\n",
       "    <tr>\n",
       "      <th>1</th>\n",
       "      <td>0.609</td>\n",
       "      <td>0.692</td>\n",
       "      <td>1</td>\n",
       "      <td>-2.958</td>\n",
       "      <td>1</td>\n",
       "      <td>0.0259</td>\n",
       "      <td>0.0157</td>\n",
       "      <td>0.000000</td>\n",
       "      <td>0.0864</td>\n",
       "      <td>0.4540</td>\n",
       "      <td>116.959</td>\n",
       "      <td>audio_features</td>\n",
       "      <td>2eAvDnpXP5W0cVtiI0PUxV</td>\n",
       "      <td>spotify:track:2eAvDnpXP5W0cVtiI0PUxV</td>\n",
       "      <td>https://api.spotify.com/v1/tracks/2eAvDnpXP5W0...</td>\n",
       "      <td>https://api.spotify.com/v1/audio-analysis/2eAv...</td>\n",
       "      <td>233720</td>\n",
       "      <td>3</td>\n",
       "    </tr>\n",
       "    <tr>\n",
       "      <th>2</th>\n",
       "      <td>0.666</td>\n",
       "      <td>0.542</td>\n",
       "      <td>8</td>\n",
       "      <td>-6.429</td>\n",
       "      <td>1</td>\n",
       "      <td>0.0392</td>\n",
       "      <td>0.2700</td>\n",
       "      <td>0.000000</td>\n",
       "      <td>0.0765</td>\n",
       "      <td>0.0771</td>\n",
       "      <td>120.134</td>\n",
       "      <td>audio_features</td>\n",
       "      <td>3M0lSi5WW79CXQamgSBIjx</td>\n",
       "      <td>spotify:track:3M0lSi5WW79CXQamgSBIjx</td>\n",
       "      <td>https://api.spotify.com/v1/tracks/3M0lSi5WW79C...</td>\n",
       "      <td>https://api.spotify.com/v1/audio-analysis/3M0l...</td>\n",
       "      <td>228787</td>\n",
       "      <td>4</td>\n",
       "    </tr>\n",
       "    <tr>\n",
       "      <th>3</th>\n",
       "      <td>0.714</td>\n",
       "      <td>0.800</td>\n",
       "      <td>11</td>\n",
       "      <td>-4.808</td>\n",
       "      <td>0</td>\n",
       "      <td>0.0504</td>\n",
       "      <td>0.1270</td>\n",
       "      <td>0.000000</td>\n",
       "      <td>0.3590</td>\n",
       "      <td>0.5890</td>\n",
       "      <td>134.002</td>\n",
       "      <td>audio_features</td>\n",
       "      <td>3Wrjm47oTz2sjIgck11l5e</td>\n",
       "      <td>spotify:track:3Wrjm47oTz2sjIgck11l5e</td>\n",
       "      <td>https://api.spotify.com/v1/tracks/3Wrjm47oTz2s...</td>\n",
       "      <td>https://api.spotify.com/v1/audio-analysis/3Wrj...</td>\n",
       "      <td>211560</td>\n",
       "      <td>4</td>\n",
       "    </tr>\n",
       "    <tr>\n",
       "      <th>4</th>\n",
       "      <td>0.880</td>\n",
       "      <td>0.428</td>\n",
       "      <td>9</td>\n",
       "      <td>-8.280</td>\n",
       "      <td>1</td>\n",
       "      <td>0.2060</td>\n",
       "      <td>0.1490</td>\n",
       "      <td>0.000051</td>\n",
       "      <td>0.1140</td>\n",
       "      <td>0.3330</td>\n",
       "      <td>100.007</td>\n",
       "      <td>audio_features</td>\n",
       "      <td>7sO5G9EABYOXQKNPNiE9NR</td>\n",
       "      <td>spotify:track:7sO5G9EABYOXQKNPNiE9NR</td>\n",
       "      <td>https://api.spotify.com/v1/tracks/7sO5G9EABYOX...</td>\n",
       "      <td>https://api.spotify.com/v1/audio-analysis/7sO5...</td>\n",
       "      <td>172800</td>\n",
       "      <td>4</td>\n",
       "    </tr>\n",
       "  </tbody>\n",
       "</table>\n",
       "</div>"
      ],
      "text/plain": [
       "   danceability  energy  key  loudness  mode  speechiness  acousticness  \\\n",
       "0         0.671   0.673   11    -6.941     0       0.0444        0.1480   \n",
       "1         0.609   0.692    1    -2.958     1       0.0259        0.0157   \n",
       "2         0.666   0.542    8    -6.429     1       0.0392        0.2700   \n",
       "3         0.714   0.800   11    -4.808     0       0.0504        0.1270   \n",
       "4         0.880   0.428    9    -8.280     1       0.2060        0.1490   \n",
       "\n",
       "   instrumentalness  liveness  valence    tempo            type  \\\n",
       "0          0.000053    0.3040   0.4940  121.963  audio_features   \n",
       "1          0.000000    0.0864   0.4540  116.959  audio_features   \n",
       "2          0.000000    0.0765   0.0771  120.134  audio_features   \n",
       "3          0.000000    0.3590   0.5890  134.002  audio_features   \n",
       "4          0.000051    0.1140   0.3330  100.007  audio_features   \n",
       "\n",
       "                       id                                   uri  \\\n",
       "0  1SOClUWhOi8vHZYMz3GluK  spotify:track:1SOClUWhOi8vHZYMz3GluK   \n",
       "1  2eAvDnpXP5W0cVtiI0PUxV  spotify:track:2eAvDnpXP5W0cVtiI0PUxV   \n",
       "2  3M0lSi5WW79CXQamgSBIjx  spotify:track:3M0lSi5WW79CXQamgSBIjx   \n",
       "3  3Wrjm47oTz2sjIgck11l5e  spotify:track:3Wrjm47oTz2sjIgck11l5e   \n",
       "4  7sO5G9EABYOXQKNPNiE9NR  spotify:track:7sO5G9EABYOXQKNPNiE9NR   \n",
       "\n",
       "                                          track_href  \\\n",
       "0  https://api.spotify.com/v1/tracks/1SOClUWhOi8v...   \n",
       "1  https://api.spotify.com/v1/tracks/2eAvDnpXP5W0...   \n",
       "2  https://api.spotify.com/v1/tracks/3M0lSi5WW79C...   \n",
       "3  https://api.spotify.com/v1/tracks/3Wrjm47oTz2s...   \n",
       "4  https://api.spotify.com/v1/tracks/7sO5G9EABYOX...   \n",
       "\n",
       "                                        analysis_url  duration_ms  \\\n",
       "0  https://api.spotify.com/v1/audio-analysis/1SOC...       237720   \n",
       "1  https://api.spotify.com/v1/audio-analysis/2eAv...       233720   \n",
       "2  https://api.spotify.com/v1/audio-analysis/3M0l...       228787   \n",
       "3  https://api.spotify.com/v1/audio-analysis/3Wrj...       211560   \n",
       "4  https://api.spotify.com/v1/audio-analysis/7sO5...       172800   \n",
       "\n",
       "   time_signature  \n",
       "0               4  \n",
       "1               3  \n",
       "2               4  \n",
       "3               4  \n",
       "4               4  "
      ]
     },
     "execution_count": 12,
     "metadata": {},
     "output_type": "execute_result"
    }
   ],
   "source": [
    "# saving the features in a data frame\n",
    "df_audio_features = pd.DataFrame.from_dict(rows,orient='columns') \n",
    "print(\"Shape of the dataset:\", df_audio_features.shape) \n",
    "df_audio_features.head()"
   ]
  },
  {
   "cell_type": "code",
   "execution_count": 13,
   "metadata": {},
   "outputs": [],
   "source": [
    "df_audio_features.to_csv('raw_data\\\\audio_feaures_2017_and_2020.csv')"
   ]
  },
  {
   "cell_type": "code",
   "execution_count": 14,
   "metadata": {
    "ExecuteTime": {
     "end_time": "2022-02-20T14:21:03.118854Z",
     "start_time": "2022-02-20T14:21:03.090393Z"
    }
   },
   "outputs": [
    {
     "data": {
      "text/html": [
       "<div>\n",
       "<style scoped>\n",
       "    .dataframe tbody tr th:only-of-type {\n",
       "        vertical-align: middle;\n",
       "    }\n",
       "\n",
       "    .dataframe tbody tr th {\n",
       "        vertical-align: top;\n",
       "    }\n",
       "\n",
       "    .dataframe thead th {\n",
       "        text-align: right;\n",
       "    }\n",
       "</style>\n",
       "<table border=\"1\" class=\"dataframe\">\n",
       "  <thead>\n",
       "    <tr style=\"text-align: right;\">\n",
       "      <th></th>\n",
       "      <th>popularity</th>\n",
       "      <th>year</th>\n",
       "    </tr>\n",
       "  </thead>\n",
       "  <tbody>\n",
       "    <tr>\n",
       "      <th>count</th>\n",
       "      <td>7272.000000</td>\n",
       "      <td>7272.000000</td>\n",
       "    </tr>\n",
       "    <tr>\n",
       "      <th>mean</th>\n",
       "      <td>44.576320</td>\n",
       "      <td>2019.096397</td>\n",
       "    </tr>\n",
       "    <tr>\n",
       "      <th>std</th>\n",
       "      <td>24.367509</td>\n",
       "      <td>2.467376</td>\n",
       "    </tr>\n",
       "    <tr>\n",
       "      <th>min</th>\n",
       "      <td>0.000000</td>\n",
       "      <td>2017.000000</td>\n",
       "    </tr>\n",
       "    <tr>\n",
       "      <th>25%</th>\n",
       "      <td>36.000000</td>\n",
       "      <td>2017.000000</td>\n",
       "    </tr>\n",
       "    <tr>\n",
       "      <th>50%</th>\n",
       "      <td>52.000000</td>\n",
       "      <td>2017.000000</td>\n",
       "    </tr>\n",
       "    <tr>\n",
       "      <th>75%</th>\n",
       "      <td>61.000000</td>\n",
       "      <td>2022.000000</td>\n",
       "    </tr>\n",
       "    <tr>\n",
       "      <th>max</th>\n",
       "      <td>96.000000</td>\n",
       "      <td>2022.000000</td>\n",
       "    </tr>\n",
       "  </tbody>\n",
       "</table>\n",
       "</div>"
      ],
      "text/plain": [
       "        popularity         year\n",
       "count  7272.000000  7272.000000\n",
       "mean     44.576320  2019.096397\n",
       "std      24.367509     2.467376\n",
       "min       0.000000  2017.000000\n",
       "25%      36.000000  2017.000000\n",
       "50%      52.000000  2017.000000\n",
       "75%      61.000000  2022.000000\n",
       "max      96.000000  2022.000000"
      ]
     },
     "execution_count": 14,
     "metadata": {},
     "output_type": "execute_result"
    }
   ],
   "source": [
    "\n",
    "df_tracks.describe()"
   ]
  },
  {
   "cell_type": "code",
   "execution_count": null,
   "metadata": {},
   "outputs": [],
   "source": []
  }
 ],
 "metadata": {
  "interpreter": {
   "hash": "5c33e229b0f1c3ce74bab2bfe4b754d6bdeae63864093c838e89d5a62e71ff06"
  },
  "kernelspec": {
   "display_name": "Python 3",
   "language": "python",
   "name": "python3"
  },
  "language_info": {
   "codemirror_mode": {
    "name": "ipython",
    "version": 3
   },
   "file_extension": ".py",
   "mimetype": "text/x-python",
   "name": "python",
   "nbconvert_exporter": "python",
   "pygments_lexer": "ipython3",
   "version": "3.8.8"
  }
 },
 "nbformat": 4,
 "nbformat_minor": 2
}
