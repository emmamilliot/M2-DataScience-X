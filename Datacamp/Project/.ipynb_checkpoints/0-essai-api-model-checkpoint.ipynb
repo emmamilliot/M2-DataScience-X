{
 "cells": [
  {
   "cell_type": "markdown",
   "metadata": {},
   "source": [
    "This aim of this notebook is to figure out how to get data from spotify. \n",
    "\n",
    "Resources : https://medium.com/@rafaelnduarte/how-to-retrieve-data-from-spotify-110c859ab304\n"
   ]
  },
  {
   "cell_type": "markdown",
   "metadata": {},
   "source": [
    "A faire aussi : créer un compte spotify https://developer.spotify.com/ et créer une app, puis rajouter dans les authoristions le redirect_uri utilisé"
   ]
  },
  {
   "cell_type": "code",
   "execution_count": 1,
   "metadata": {
    "ExecuteTime": {
     "end_time": "2022-02-20T14:12:08.099999Z",
     "start_time": "2022-02-20T14:12:07.896954Z"
    }
   },
   "outputs": [],
   "source": [
    "import spotipy \n",
    "sp = spotipy.Spotify() \n",
    "from spotipy.oauth2 import SpotifyClientCredentials \n",
    "import spotipy.util as util"
   ]
  },
  {
   "cell_type": "code",
   "execution_count": null,
   "metadata": {
    "ExecuteTime": {
     "end_time": "2022-02-20T14:12:08.764110Z",
     "start_time": "2022-02-20T14:12:08.744199Z"
    }
   },
   "outputs": [],
   "source": [
    "# setting up authorization\n",
    "cid = \"d219b776c1574adb99e52a6a3592fb6e\" \n",
    "secret = \"d81ae5a6d57645d2a3274cce038b688b\"\n",
    "# saving the info you're going to need\n",
    "username = 'emmamilliot'\n",
    "scope = 'user-library-read' #check the documentation\n",
    "authorization_url = 'https://accounts.spotify.com/authorize'\n",
    "token_url = 'https://accounts.spotify.com/api/token'\n",
    "redirect_uri ='http://localhost:8808/callback/'\n",
    "\n",
    "token = util.prompt_for_user_token(username,scope,client_id=cid,client_secret=secret,redirect_uri=redirect_uri)\n",
    "client_credentials_manager = SpotifyClientCredentials(client_id=cid, client_secret=secret)\n",
    "sp = spotipy.Spotify(client_credentials_manager=client_credentials_manager)"
   ]
  },
  {
   "cell_type": "code",
   "execution_count": 4,
   "metadata": {
    "ExecuteTime": {
     "end_time": "2022-02-20T14:12:15.247278Z",
     "start_time": "2022-02-20T14:12:15.230616Z"
    }
   },
   "outputs": [
    {
     "name": "stdout",
     "output_type": "stream",
     "text": [
      "{'access_token': 'BQA1lc5HlfGkfHj_YE2MI9Q_uFtzhSRHEqrWX9FPsxKq2jbGA5D6-TGG6ybIY3sv-Ek3aM485EJHAvtOKTw', 'token_type': 'Bearer', 'expires_in': 3600, 'expires_at': 1646404359}\n",
      "<spotipy.client.Spotify object at 0x000001AC8F39E3A0>\n"
     ]
    },
    {
     "name": "stderr",
     "output_type": "stream",
     "text": [
      "C:\\Users\\Elise\\AppData\\Local\\Temp/ipykernel_4852/2615581724.py:6: DeprecationWarning: You're using 'as_dict = True'.get_access_token will return the token string directly in future versions. Please adjust your code accordingly, or use get_cached_token instead.\n",
      "  token = auth.get_access_token()\n"
     ]
    }
   ],
   "source": [
    "# retrieving you access token\n",
    "auth = SpotifyClientCredentials(\n",
    "client_id=cid,\n",
    "client_secret=secret)\n",
    "# save your token\n",
    "token = auth.get_access_token()\n",
    "spotify = spotipy.Spotify(auth=token)\n",
    "# check if everything is in order\n",
    "print(token)\n",
    "print(spotify)"
   ]
  },
  {
   "cell_type": "code",
   "execution_count": 2,
   "metadata": {},
   "outputs": [],
   "source": [
    "from spotipy.client import SpotifyException"
   ]
  },
  {
   "cell_type": "code",
   "execution_count": 37,
   "metadata": {},
   "outputs": [],
   "source": [
    "with open('genres.txt') as f:\n",
    "    genres = f.readlines()\n",
    "genres = [genres[k].replace('\\n', '') for k in range(len(genres))]"
   ]
  },
  {
   "cell_type": "code",
   "execution_count": 49,
   "metadata": {
    "ExecuteTime": {
     "end_time": "2022-02-20T14:13:50.520343Z",
     "start_time": "2022-02-20T14:13:45.346555Z"
    }
   },
   "outputs": [
    {
     "name": "stdout",
     "output_type": "stream",
     "text": [
      "2021\n",
      "0\n",
      "50\n",
      "100\n",
      "150\n",
      "200\n",
      "250\n",
      "300\n",
      "350\n",
      "400\n",
      "450\n",
      "500\n",
      "550\n",
      "600\n",
      "650\n",
      "700\n",
      "750\n",
      "800\n",
      "850\n",
      "900\n",
      "950\n",
      "2022\n",
      "0\n",
      "50\n",
      "100\n",
      "150\n",
      "200\n",
      "250\n",
      "300\n",
      "350\n",
      "400\n",
      "450\n",
      "500\n",
      "550\n",
      "600\n",
      "650\n",
      "700\n",
      "750\n",
      "800\n",
      "850\n",
      "900\n",
      "950\n"
     ]
    }
   ],
   "source": [
    "# create empty lists where the results are going to be stored\n",
    "artist_name = []\n",
    "artist_id = []\n",
    "artists_id = []\n",
    "artists_names = []\n",
    "track_name = []\n",
    "popularity = []\n",
    "track_id = []\n",
    "years = []\n",
    "genres_list = []\n",
    "\n",
    "for year in [2021, 2022] : \n",
    "    print(year)\n",
    "    qu = '+year:{}'.format(year)\n",
    "    for i in range(0,1000,50):\n",
    "        print(i)\n",
    "        count_exceptions = 0\n",
    "        for genre in genres[0:100]:\n",
    "            # print(genre)\n",
    "            try : \n",
    "                query = 'genre:\"{}\"'.format(genre) + qu\n",
    "                track_results = sp.search(q=query, type='track', limit=50, offset=i)\n",
    "                # if len(track_results['tracks']['items']) == 0:\n",
    "                #     empty_list += 1\n",
    "                for i, t in enumerate(track_results['tracks']['items']):\n",
    "                    artist_name.append(t['artists'][0]['name'])\n",
    "                    artist_id.append(t['artists'][0]['id'])\n",
    "                    artists_id.append([t['artists'][k]['id'] for k in range(len(t['artists']))])\n",
    "                    artists_names.append([t['artists'][k]['name'] for k in range(len(t['artists']))])\n",
    "                    track_name.append(t['name'])\n",
    "                    track_id.append(t['id'])\n",
    "                    popularity.append(t['popularity'])\n",
    "                    years.append(year)\n",
    "                    genres_list.append(genre)\n",
    "            except SpotifyException:\n",
    "                count_exceptions += 1\n",
    "                if count_exceptions < 10 : \n",
    "                    pass\n",
    "                else:\n",
    "                    raise\n",
    "            except : \n",
    "                raise\n",
    "            # if empty_list > 10 : \n",
    "            #     break"
   ]
  },
  {
   "cell_type": "code",
   "execution_count": 50,
   "metadata": {
    "ExecuteTime": {
     "end_time": "2022-02-20T14:18:05.277331Z",
     "start_time": "2022-02-20T14:18:01.777660Z"
    }
   },
   "outputs": [
    {
     "name": "stdout",
     "output_type": "stream",
     "text": [
      "(197840, 9)\n"
     ]
    },
    {
     "data": {
      "text/html": [
       "<div>\n",
       "<style scoped>\n",
       "    .dataframe tbody tr th:only-of-type {\n",
       "        vertical-align: middle;\n",
       "    }\n",
       "\n",
       "    .dataframe tbody tr th {\n",
       "        vertical-align: top;\n",
       "    }\n",
       "\n",
       "    .dataframe thead th {\n",
       "        text-align: right;\n",
       "    }\n",
       "</style>\n",
       "<table border=\"1\" class=\"dataframe\">\n",
       "  <thead>\n",
       "    <tr style=\"text-align: right;\">\n",
       "      <th></th>\n",
       "      <th>artist_name</th>\n",
       "      <th>track_name</th>\n",
       "      <th>track_id</th>\n",
       "      <th>popularity</th>\n",
       "      <th>artist_id</th>\n",
       "      <th>artists_id</th>\n",
       "      <th>artists_names</th>\n",
       "      <th>year</th>\n",
       "      <th>genre</th>\n",
       "    </tr>\n",
       "  </thead>\n",
       "  <tbody>\n",
       "    <tr>\n",
       "      <th>0</th>\n",
       "      <td>GAYLE</td>\n",
       "      <td>abcdefu</td>\n",
       "      <td>4fouWK6XVHhzl78KzQ1UjL</td>\n",
       "      <td>100</td>\n",
       "      <td>2VSHKHBTiXWplO8lxcnUC9</td>\n",
       "      <td>[2VSHKHBTiXWplO8lxcnUC9]</td>\n",
       "      <td>[GAYLE]</td>\n",
       "      <td>2021</td>\n",
       "      <td>pop</td>\n",
       "    </tr>\n",
       "    <tr>\n",
       "      <th>1</th>\n",
       "      <td>Doja Cat</td>\n",
       "      <td>Need to Know</td>\n",
       "      <td>3Vi5XqYrmQgOYBajMWSvCi</td>\n",
       "      <td>93</td>\n",
       "      <td>5cj0lLjcoR7YOSnhnX0Po5</td>\n",
       "      <td>[5cj0lLjcoR7YOSnhnX0Po5]</td>\n",
       "      <td>[Doja Cat]</td>\n",
       "      <td>2021</td>\n",
       "      <td>pop</td>\n",
       "    </tr>\n",
       "    <tr>\n",
       "      <th>2</th>\n",
       "      <td>Olivia Rodrigo</td>\n",
       "      <td>good 4 u</td>\n",
       "      <td>4ZtFanR9U6ndgddUvNcjcG</td>\n",
       "      <td>95</td>\n",
       "      <td>1McMsnEElThX1knmY4oliG</td>\n",
       "      <td>[1McMsnEElThX1knmY4oliG]</td>\n",
       "      <td>[Olivia Rodrigo]</td>\n",
       "      <td>2021</td>\n",
       "      <td>pop</td>\n",
       "    </tr>\n",
       "    <tr>\n",
       "      <th>3</th>\n",
       "      <td>Doja Cat</td>\n",
       "      <td>Woman</td>\n",
       "      <td>6Uj1ctrBOjOas8xZXGqKk4</td>\n",
       "      <td>96</td>\n",
       "      <td>5cj0lLjcoR7YOSnhnX0Po5</td>\n",
       "      <td>[5cj0lLjcoR7YOSnhnX0Po5]</td>\n",
       "      <td>[Doja Cat]</td>\n",
       "      <td>2021</td>\n",
       "      <td>pop</td>\n",
       "    </tr>\n",
       "    <tr>\n",
       "      <th>4</th>\n",
       "      <td>Lil Nas X</td>\n",
       "      <td>INDUSTRY BABY (feat. Jack Harlow)</td>\n",
       "      <td>27NovPIUIRrOZoCHxABJwK</td>\n",
       "      <td>95</td>\n",
       "      <td>7jVv8c5Fj3E9VhNjxT4snq</td>\n",
       "      <td>[7jVv8c5Fj3E9VhNjxT4snq, 2LIk90788K0zvyj2JJVwkJ]</td>\n",
       "      <td>[Lil Nas X, Jack Harlow]</td>\n",
       "      <td>2021</td>\n",
       "      <td>pop</td>\n",
       "    </tr>\n",
       "  </tbody>\n",
       "</table>\n",
       "</div>"
      ],
      "text/plain": [
       "      artist_name                         track_name                track_id  \\\n",
       "0           GAYLE                            abcdefu  4fouWK6XVHhzl78KzQ1UjL   \n",
       "1        Doja Cat                       Need to Know  3Vi5XqYrmQgOYBajMWSvCi   \n",
       "2  Olivia Rodrigo                           good 4 u  4ZtFanR9U6ndgddUvNcjcG   \n",
       "3        Doja Cat                              Woman  6Uj1ctrBOjOas8xZXGqKk4   \n",
       "4       Lil Nas X  INDUSTRY BABY (feat. Jack Harlow)  27NovPIUIRrOZoCHxABJwK   \n",
       "\n",
       "   popularity               artist_id  \\\n",
       "0         100  2VSHKHBTiXWplO8lxcnUC9   \n",
       "1          93  5cj0lLjcoR7YOSnhnX0Po5   \n",
       "2          95  1McMsnEElThX1knmY4oliG   \n",
       "3          96  5cj0lLjcoR7YOSnhnX0Po5   \n",
       "4          95  7jVv8c5Fj3E9VhNjxT4snq   \n",
       "\n",
       "                                         artists_id             artists_names  \\\n",
       "0                          [2VSHKHBTiXWplO8lxcnUC9]                   [GAYLE]   \n",
       "1                          [5cj0lLjcoR7YOSnhnX0Po5]                [Doja Cat]   \n",
       "2                          [1McMsnEElThX1knmY4oliG]          [Olivia Rodrigo]   \n",
       "3                          [5cj0lLjcoR7YOSnhnX0Po5]                [Doja Cat]   \n",
       "4  [7jVv8c5Fj3E9VhNjxT4snq, 2LIk90788K0zvyj2JJVwkJ]  [Lil Nas X, Jack Harlow]   \n",
       "\n",
       "   year genre  \n",
       "0  2021   pop  \n",
       "1  2021   pop  \n",
       "2  2021   pop  \n",
       "3  2021   pop  \n",
       "4  2021   pop  "
      ]
     },
     "execution_count": 50,
     "metadata": {},
     "output_type": "execute_result"
    }
   ],
   "source": [
    "import pandas as pd\n",
    "\n",
    "df_tracks = pd.DataFrame({'artist_name':artist_name,\n",
    "                        'track_name':track_name,\n",
    "                        'track_id':track_id,\n",
    "                        'popularity':popularity, \n",
    "                        'artist_id' : artist_id, \n",
    "                        'artists_id' : artists_id,\n",
    "                        'artists_names' : artists_names, \n",
    "                        'year' : years,\n",
    "                        'genre' : genres_list})\n",
    "print(df_tracks.shape)\n",
    "# check if everything is ok\n",
    "df_tracks.head()"
   ]
  },
  {
   "cell_type": "code",
   "execution_count": 51,
   "metadata": {
    "ExecuteTime": {
     "end_time": "2022-02-20T14:19:06.941434Z",
     "start_time": "2022-02-20T14:19:06.917461Z"
    }
   },
   "outputs": [
    {
     "data": {
      "text/plain": [
       "6601"
      ]
     },
     "execution_count": 51,
     "metadata": {},
     "output_type": "execute_result"
    }
   ],
   "source": [
    "# group the entries by artist_name and track_name and check for duplicates\n",
    "\n",
    "grouped = df_tracks.groupby(['artist_name','track_name'], as_index=True).size()\n",
    "grouped[grouped > 1].count()"
   ]
  },
  {
   "cell_type": "code",
   "execution_count": 52,
   "metadata": {
    "ExecuteTime": {
     "end_time": "2022-02-20T14:19:24.012226Z",
     "start_time": "2022-02-20T14:19:23.987249Z"
    }
   },
   "outputs": [],
   "source": [
    "# dropping duplicates\n",
    "\n",
    "df_tracks.drop_duplicates(subset=['artist_name','track_name'], inplace=True)"
   ]
  },
  {
   "cell_type": "code",
   "execution_count": 53,
   "metadata": {},
   "outputs": [],
   "source": [
    "df_tracks.to_csv('tracks_2021_2022.csv')"
   ]
  },
  {
   "cell_type": "code",
   "execution_count": 56,
   "metadata": {
    "ExecuteTime": {
     "end_time": "2022-02-20T14:19:39.831508Z",
     "start_time": "2022-02-20T14:19:38.561381Z"
    }
   },
   "outputs": [
    {
     "name": "stdout",
     "output_type": "stream",
     "text": [
      "0\n",
      "100\n",
      "200\n",
      "300\n",
      "400\n",
      "500\n",
      "600\n",
      "700\n",
      "800\n",
      "900\n",
      "1000\n",
      "1100\n",
      "1200\n",
      "1300\n",
      "1400\n",
      "1500\n",
      "1600\n",
      "1700\n",
      "1800\n",
      "1900\n",
      "2000\n",
      "2100\n",
      "2200\n",
      "2300\n",
      "2400\n",
      "2500\n",
      "2600\n",
      "2700\n",
      "2800\n",
      "2900\n",
      "3000\n",
      "3100\n",
      "3200\n",
      "3300\n",
      "3400\n",
      "3500\n",
      "3600\n",
      "3700\n",
      "3800\n",
      "3900\n",
      "4000\n",
      "4100\n",
      "4200\n",
      "4300\n",
      "4400\n",
      "4500\n",
      "4600\n",
      "4700\n",
      "4800\n",
      "4900\n",
      "5000\n",
      "5100\n",
      "5200\n",
      "5300\n",
      "5400\n",
      "5500\n",
      "5600\n",
      "5700\n",
      "5800\n",
      "5900\n",
      "6000\n",
      "6100\n",
      "6200\n",
      "6300\n",
      "6400\n",
      "6500\n",
      "6600\n",
      "6700\n",
      "6800\n",
      "6900\n",
      "7000\n",
      "7100\n",
      "7200\n",
      "Number of tracks where no audio features were available: 0\n"
     ]
    }
   ],
   "source": [
    "# empty list, batchsize and the counter for None results\n",
    "rows = []\n",
    "batchsize = 100\n",
    "None_counter = 0\n",
    "\n",
    "for i in range(0,len(df_tracks['track_id']),batchsize):\n",
    "    print(i)\n",
    "    batch = df_tracks['track_id'][i:i+batchsize]\n",
    "    feature_results = sp.audio_features(batch)\n",
    "    for i, t in enumerate(feature_results):\n",
    "        if t == None:\n",
    "            None_counter = None_counter + 1\n",
    "        else:\n",
    "            rows.append(t)\n",
    "            \n",
    "print('Number of tracks where no audio features were available:',None_counter)"
   ]
  },
  {
   "cell_type": "code",
   "execution_count": 57,
   "metadata": {
    "ExecuteTime": {
     "end_time": "2022-02-20T14:20:25.009100Z",
     "start_time": "2022-02-20T14:20:24.964190Z"
    }
   },
   "outputs": [
    {
     "name": "stdout",
     "output_type": "stream",
     "text": [
      "Shape of the dataset: (7238, 18)\n"
     ]
    },
    {
     "data": {
      "text/html": [
       "<div>\n",
       "<style scoped>\n",
       "    .dataframe tbody tr th:only-of-type {\n",
       "        vertical-align: middle;\n",
       "    }\n",
       "\n",
       "    .dataframe tbody tr th {\n",
       "        vertical-align: top;\n",
       "    }\n",
       "\n",
       "    .dataframe thead th {\n",
       "        text-align: right;\n",
       "    }\n",
       "</style>\n",
       "<table border=\"1\" class=\"dataframe\">\n",
       "  <thead>\n",
       "    <tr style=\"text-align: right;\">\n",
       "      <th></th>\n",
       "      <th>danceability</th>\n",
       "      <th>energy</th>\n",
       "      <th>key</th>\n",
       "      <th>loudness</th>\n",
       "      <th>mode</th>\n",
       "      <th>speechiness</th>\n",
       "      <th>acousticness</th>\n",
       "      <th>instrumentalness</th>\n",
       "      <th>liveness</th>\n",
       "      <th>valence</th>\n",
       "      <th>tempo</th>\n",
       "      <th>type</th>\n",
       "      <th>id</th>\n",
       "      <th>uri</th>\n",
       "      <th>track_href</th>\n",
       "      <th>analysis_url</th>\n",
       "      <th>duration_ms</th>\n",
       "      <th>time_signature</th>\n",
       "    </tr>\n",
       "  </thead>\n",
       "  <tbody>\n",
       "    <tr>\n",
       "      <th>0</th>\n",
       "      <td>0.695</td>\n",
       "      <td>0.540</td>\n",
       "      <td>4</td>\n",
       "      <td>-5.692</td>\n",
       "      <td>1</td>\n",
       "      <td>0.0493</td>\n",
       "      <td>0.2990</td>\n",
       "      <td>0.00000</td>\n",
       "      <td>0.3670</td>\n",
       "      <td>0.415</td>\n",
       "      <td>121.932</td>\n",
       "      <td>audio_features</td>\n",
       "      <td>4fouWK6XVHhzl78KzQ1UjL</td>\n",
       "      <td>spotify:track:4fouWK6XVHhzl78KzQ1UjL</td>\n",
       "      <td>https://api.spotify.com/v1/tracks/4fouWK6XVHhz...</td>\n",
       "      <td>https://api.spotify.com/v1/audio-analysis/4fou...</td>\n",
       "      <td>168602</td>\n",
       "      <td>4</td>\n",
       "    </tr>\n",
       "    <tr>\n",
       "      <th>1</th>\n",
       "      <td>0.664</td>\n",
       "      <td>0.609</td>\n",
       "      <td>1</td>\n",
       "      <td>-6.509</td>\n",
       "      <td>1</td>\n",
       "      <td>0.0707</td>\n",
       "      <td>0.3040</td>\n",
       "      <td>0.00000</td>\n",
       "      <td>0.0926</td>\n",
       "      <td>0.194</td>\n",
       "      <td>130.041</td>\n",
       "      <td>audio_features</td>\n",
       "      <td>3Vi5XqYrmQgOYBajMWSvCi</td>\n",
       "      <td>spotify:track:3Vi5XqYrmQgOYBajMWSvCi</td>\n",
       "      <td>https://api.spotify.com/v1/tracks/3Vi5XqYrmQgO...</td>\n",
       "      <td>https://api.spotify.com/v1/audio-analysis/3Vi5...</td>\n",
       "      <td>210560</td>\n",
       "      <td>4</td>\n",
       "    </tr>\n",
       "    <tr>\n",
       "      <th>2</th>\n",
       "      <td>0.563</td>\n",
       "      <td>0.664</td>\n",
       "      <td>9</td>\n",
       "      <td>-5.044</td>\n",
       "      <td>1</td>\n",
       "      <td>0.1540</td>\n",
       "      <td>0.3350</td>\n",
       "      <td>0.00000</td>\n",
       "      <td>0.0849</td>\n",
       "      <td>0.688</td>\n",
       "      <td>166.928</td>\n",
       "      <td>audio_features</td>\n",
       "      <td>4ZtFanR9U6ndgddUvNcjcG</td>\n",
       "      <td>spotify:track:4ZtFanR9U6ndgddUvNcjcG</td>\n",
       "      <td>https://api.spotify.com/v1/tracks/4ZtFanR9U6nd...</td>\n",
       "      <td>https://api.spotify.com/v1/audio-analysis/4ZtF...</td>\n",
       "      <td>178147</td>\n",
       "      <td>4</td>\n",
       "    </tr>\n",
       "    <tr>\n",
       "      <th>3</th>\n",
       "      <td>0.824</td>\n",
       "      <td>0.764</td>\n",
       "      <td>5</td>\n",
       "      <td>-4.175</td>\n",
       "      <td>0</td>\n",
       "      <td>0.0854</td>\n",
       "      <td>0.0888</td>\n",
       "      <td>0.00294</td>\n",
       "      <td>0.1170</td>\n",
       "      <td>0.881</td>\n",
       "      <td>107.998</td>\n",
       "      <td>audio_features</td>\n",
       "      <td>6Uj1ctrBOjOas8xZXGqKk4</td>\n",
       "      <td>spotify:track:6Uj1ctrBOjOas8xZXGqKk4</td>\n",
       "      <td>https://api.spotify.com/v1/tracks/6Uj1ctrBOjOa...</td>\n",
       "      <td>https://api.spotify.com/v1/audio-analysis/6Uj1...</td>\n",
       "      <td>172627</td>\n",
       "      <td>4</td>\n",
       "    </tr>\n",
       "    <tr>\n",
       "      <th>4</th>\n",
       "      <td>0.736</td>\n",
       "      <td>0.704</td>\n",
       "      <td>3</td>\n",
       "      <td>-7.409</td>\n",
       "      <td>0</td>\n",
       "      <td>0.0615</td>\n",
       "      <td>0.0203</td>\n",
       "      <td>0.00000</td>\n",
       "      <td>0.0501</td>\n",
       "      <td>0.894</td>\n",
       "      <td>149.995</td>\n",
       "      <td>audio_features</td>\n",
       "      <td>27NovPIUIRrOZoCHxABJwK</td>\n",
       "      <td>spotify:track:27NovPIUIRrOZoCHxABJwK</td>\n",
       "      <td>https://api.spotify.com/v1/tracks/27NovPIUIRrO...</td>\n",
       "      <td>https://api.spotify.com/v1/audio-analysis/27No...</td>\n",
       "      <td>212000</td>\n",
       "      <td>4</td>\n",
       "    </tr>\n",
       "  </tbody>\n",
       "</table>\n",
       "</div>"
      ],
      "text/plain": [
       "   danceability  energy  key  loudness  mode  speechiness  acousticness  \\\n",
       "0         0.695   0.540    4    -5.692     1       0.0493        0.2990   \n",
       "1         0.664   0.609    1    -6.509     1       0.0707        0.3040   \n",
       "2         0.563   0.664    9    -5.044     1       0.1540        0.3350   \n",
       "3         0.824   0.764    5    -4.175     0       0.0854        0.0888   \n",
       "4         0.736   0.704    3    -7.409     0       0.0615        0.0203   \n",
       "\n",
       "   instrumentalness  liveness  valence    tempo            type  \\\n",
       "0           0.00000    0.3670    0.415  121.932  audio_features   \n",
       "1           0.00000    0.0926    0.194  130.041  audio_features   \n",
       "2           0.00000    0.0849    0.688  166.928  audio_features   \n",
       "3           0.00294    0.1170    0.881  107.998  audio_features   \n",
       "4           0.00000    0.0501    0.894  149.995  audio_features   \n",
       "\n",
       "                       id                                   uri  \\\n",
       "0  4fouWK6XVHhzl78KzQ1UjL  spotify:track:4fouWK6XVHhzl78KzQ1UjL   \n",
       "1  3Vi5XqYrmQgOYBajMWSvCi  spotify:track:3Vi5XqYrmQgOYBajMWSvCi   \n",
       "2  4ZtFanR9U6ndgddUvNcjcG  spotify:track:4ZtFanR9U6ndgddUvNcjcG   \n",
       "3  6Uj1ctrBOjOas8xZXGqKk4  spotify:track:6Uj1ctrBOjOas8xZXGqKk4   \n",
       "4  27NovPIUIRrOZoCHxABJwK  spotify:track:27NovPIUIRrOZoCHxABJwK   \n",
       "\n",
       "                                          track_href  \\\n",
       "0  https://api.spotify.com/v1/tracks/4fouWK6XVHhz...   \n",
       "1  https://api.spotify.com/v1/tracks/3Vi5XqYrmQgO...   \n",
       "2  https://api.spotify.com/v1/tracks/4ZtFanR9U6nd...   \n",
       "3  https://api.spotify.com/v1/tracks/6Uj1ctrBOjOa...   \n",
       "4  https://api.spotify.com/v1/tracks/27NovPIUIRrO...   \n",
       "\n",
       "                                        analysis_url  duration_ms  \\\n",
       "0  https://api.spotify.com/v1/audio-analysis/4fou...       168602   \n",
       "1  https://api.spotify.com/v1/audio-analysis/3Vi5...       210560   \n",
       "2  https://api.spotify.com/v1/audio-analysis/4ZtF...       178147   \n",
       "3  https://api.spotify.com/v1/audio-analysis/6Uj1...       172627   \n",
       "4  https://api.spotify.com/v1/audio-analysis/27No...       212000   \n",
       "\n",
       "   time_signature  \n",
       "0               4  \n",
       "1               4  \n",
       "2               4  \n",
       "3               4  \n",
       "4               4  "
      ]
     },
     "execution_count": 57,
     "metadata": {},
     "output_type": "execute_result"
    }
   ],
   "source": [
    "# saving the features in a data frame\n",
    "df_audio_features = pd.DataFrame.from_dict(rows,orient='columns') \n",
    "print(\"Shape of the dataset:\", df_audio_features.shape) \n",
    "df_audio_features.head()"
   ]
  },
  {
   "cell_type": "code",
   "execution_count": 58,
   "metadata": {},
   "outputs": [],
   "source": [
    "df_audio_features.to_csv('raw_data\\\\audio_feaures_2021_and_2022.csv')"
   ]
  },
  {
   "cell_type": "code",
   "execution_count": 59,
   "metadata": {
    "ExecuteTime": {
     "end_time": "2022-02-20T14:21:03.118854Z",
     "start_time": "2022-02-20T14:21:03.090393Z"
    }
   },
   "outputs": [
    {
     "data": {
      "text/html": [
       "<div>\n",
       "<style scoped>\n",
       "    .dataframe tbody tr th:only-of-type {\n",
       "        vertical-align: middle;\n",
       "    }\n",
       "\n",
       "    .dataframe tbody tr th {\n",
       "        vertical-align: top;\n",
       "    }\n",
       "\n",
       "    .dataframe thead th {\n",
       "        text-align: right;\n",
       "    }\n",
       "</style>\n",
       "<table border=\"1\" class=\"dataframe\">\n",
       "  <thead>\n",
       "    <tr style=\"text-align: right;\">\n",
       "      <th></th>\n",
       "      <th>popularity</th>\n",
       "      <th>year</th>\n",
       "    </tr>\n",
       "  </thead>\n",
       "  <tbody>\n",
       "    <tr>\n",
       "      <th>count</th>\n",
       "      <td>7238.000000</td>\n",
       "      <td>7238.000000</td>\n",
       "    </tr>\n",
       "    <tr>\n",
       "      <th>mean</th>\n",
       "      <td>47.545178</td>\n",
       "      <td>2021.405499</td>\n",
       "    </tr>\n",
       "    <tr>\n",
       "      <th>std</th>\n",
       "      <td>26.538103</td>\n",
       "      <td>0.491022</td>\n",
       "    </tr>\n",
       "    <tr>\n",
       "      <th>min</th>\n",
       "      <td>0.000000</td>\n",
       "      <td>2021.000000</td>\n",
       "    </tr>\n",
       "    <tr>\n",
       "      <th>25%</th>\n",
       "      <td>39.000000</td>\n",
       "      <td>2021.000000</td>\n",
       "    </tr>\n",
       "    <tr>\n",
       "      <th>50%</th>\n",
       "      <td>56.000000</td>\n",
       "      <td>2021.000000</td>\n",
       "    </tr>\n",
       "    <tr>\n",
       "      <th>75%</th>\n",
       "      <td>66.000000</td>\n",
       "      <td>2022.000000</td>\n",
       "    </tr>\n",
       "    <tr>\n",
       "      <th>max</th>\n",
       "      <td>100.000000</td>\n",
       "      <td>2022.000000</td>\n",
       "    </tr>\n",
       "  </tbody>\n",
       "</table>\n",
       "</div>"
      ],
      "text/plain": [
       "        popularity         year\n",
       "count  7238.000000  7238.000000\n",
       "mean     47.545178  2021.405499\n",
       "std      26.538103     0.491022\n",
       "min       0.000000  2021.000000\n",
       "25%      39.000000  2021.000000\n",
       "50%      56.000000  2021.000000\n",
       "75%      66.000000  2022.000000\n",
       "max     100.000000  2022.000000"
      ]
     },
     "execution_count": 59,
     "metadata": {},
     "output_type": "execute_result"
    }
   ],
   "source": [
    "\n",
    "df_tracks.describe()"
   ]
  },
  {
   "cell_type": "code",
   "execution_count": null,
   "metadata": {},
   "outputs": [],
   "source": []
  }
 ],
 "metadata": {
  "interpreter": {
   "hash": "5c33e229b0f1c3ce74bab2bfe4b754d6bdeae63864093c838e89d5a62e71ff06"
  },
  "kernelspec": {
   "display_name": "Python 3",
   "language": "python",
   "name": "python3"
  },
  "language_info": {
   "codemirror_mode": {
    "name": "ipython",
    "version": 3
   },
   "file_extension": ".py",
   "mimetype": "text/x-python",
   "name": "python",
   "nbconvert_exporter": "python",
   "pygments_lexer": "ipython3",
   "version": "3.8.8"
  }
 },
 "nbformat": 4,
 "nbformat_minor": 2
}
